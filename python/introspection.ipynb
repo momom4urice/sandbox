{
 "cells": [
  {
   "cell_type": "markdown",
   "metadata": {},
   "source": [
    "# Object introspection sandbox"
   ]
  },
  {
   "cell_type": "code",
   "execution_count": 1,
   "metadata": {
    "collapsed": true
   },
   "outputs": [],
   "source": [
    "import numpy as np"
   ]
  },
  {
   "cell_type": "code",
   "execution_count": 11,
   "metadata": {},
   "outputs": [],
   "source": [
    "# This class demonstrates the basic ability an object has to iterate on its own attributes\n",
    "class Foo(object):\n",
    "    def __init__(self):\n",
    "        pass\n",
    "    \n",
    "    def __str__(self):\n",
    "        return \"\\n\".join([\"{} {}\".format(attr, value) \n",
    "                          for attr, value in self.__dict__.iteritems()])"
   ]
  },
  {
   "cell_type": "code",
   "execution_count": 13,
   "metadata": {},
   "outputs": [
    {
     "name": "stdout",
     "output_type": "stream",
     "text": [
      "attr6 [ 0.  0.  0.  0.  0.  0.]\n",
      "attr7 [ 0.  0.  0.  0.  0.  0.  0.]\n",
      "attr4 [ 0.  0.  0.  0.]\n",
      "attr5 [ 0.  0.  0.  0.  0.]\n",
      "attr2 [ 0.  0.]\n",
      "attr3 [ 0.  0.  0.]\n",
      "attr0 []\n",
      "attr1 [ 0.]\n",
      "attr8 [ 0.  0.  0.  0.  0.  0.  0.  0.]\n",
      "attr9 [ 0.  0.  0.  0.  0.  0.  0.  0.  0.]\n"
     ]
    }
   ],
   "source": [
    "# This snippet tests on-the-fly addition of attributes\n",
    "myFoo = Foo()\n",
    "for i in range(10):\n",
    "    setattr(myFoo, \"attr{}\".format(i), np.zeros(i))\n",
    "\n",
    "# Now we test the Foo.__str__() method\n",
    "print(myFoo)"
   ]
  },
  {
   "cell_type": "code",
   "execution_count": null,
   "metadata": {
    "collapsed": true
   },
   "outputs": [],
   "source": []
  }
 ],
 "metadata": {
  "kernelspec": {
   "display_name": "Python 2",
   "language": "python",
   "name": "python2"
  },
  "language_info": {
   "codemirror_mode": {
    "name": "ipython",
    "version": 2
   },
   "file_extension": ".py",
   "mimetype": "text/x-python",
   "name": "python",
   "nbconvert_exporter": "python",
   "pygments_lexer": "ipython2",
   "version": "2.7.13"
  }
 },
 "nbformat": 4,
 "nbformat_minor": 2
}
